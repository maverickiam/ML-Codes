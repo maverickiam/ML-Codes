{
 "cells": [
  {
   "cell_type": "code",
   "execution_count": 44,
   "metadata": {},
   "outputs": [],
   "source": [
    "import numpy as np"
   ]
  },
  {
   "cell_type": "code",
   "execution_count": 45,
   "metadata": {},
   "outputs": [],
   "source": [
    "# Suppose there are n rows and 13 columns(features)\n",
    "# So X is n*13 matrix \n",
    "# Y is n*1\n",
    "# m is 1*13\n",
    "# so m transpose 13*1\n",
    "# yeahh....\n",
    "def step_gradient(X_train,Y_train, learning_rate, m):\n",
    "    m_slope = np.zeros([len(X_train[0])])\n",
    "    M = len(X_train)\n",
    "    m_slope = (-2/M)*(X_train.transpose().dot((Y_train - X_train.dot(m.transpose()))))  \n",
    "    new_m = m - learning_rate * m_slope\n",
    "    return new_m"
   ]
  },
  {
   "cell_type": "code",
   "execution_count": 46,
   "metadata": {},
   "outputs": [],
   "source": [
    "def gd(X_train, Y_train, learning_rate, num_iterations):\n",
    "    m = np.zeros(len(X_train[0]))                  \n",
    "    for i in range(num_iterations):\n",
    "        m = step_gradient(X_train, Y_train, learning_rate, m)\n",
    "    return m"
   ]
  },
  {
   "cell_type": "code",
   "execution_count": 47,
   "metadata": {},
   "outputs": [],
   "source": [
    "def run():\n",
    "    train = np.loadtxt(r\"C:\\Users\\DEEPAK\\My ML Codes\\Gradient Descent\\training.csv\", delimiter= \",\")\n",
    "    X_train=np.zeros([len(train),len(train[0])])\n",
    "    \n",
    "    for i in range(len(train)-1):\n",
    "        k=0;\n",
    "        for j in range(len(train[0])-1):\n",
    "            X_train[i][j]=train[i][j]\n",
    "            k=k+1\n",
    "        X_train[i][k]=1     # this is done to add 1's to the last of data set of training data\n",
    "        \n",
    "    Y_train = train[:,13]\n",
    "    learning_rate = 0.001\n",
    "    num_iterations = 1000\n",
    "    m = gd(X_train, Y_train, learning_rate, num_iterations)\n",
    "    #print(cost(X_train, Y_train, m))\n",
    "    return m"
   ]
  },
  {
   "cell_type": "code",
   "execution_count": 48,
   "metadata": {},
   "outputs": [
    {
     "data": {
      "text/plain": [
       "array([-0.71426575,  0.31178263, -0.42091261,  0.87716786, -0.55433819,\n",
       "        3.31371422,  0.06050316, -0.95127667,  0.49098018, -0.29115531,\n",
       "       -1.71296636,  0.63307792, -3.01515972, 19.5026778 ])"
      ]
     },
     "execution_count": 48,
     "metadata": {},
     "output_type": "execute_result"
    }
   ],
   "source": [
    "run()"
   ]
  }
 ],
 "metadata": {
  "kernelspec": {
   "display_name": "Python 3",
   "language": "python",
   "name": "python3"
  },
  "language_info": {
   "codemirror_mode": {
    "name": "ipython",
    "version": 3
   },
   "file_extension": ".py",
   "mimetype": "text/x-python",
   "name": "python",
   "nbconvert_exporter": "python",
   "pygments_lexer": "ipython3",
   "version": "3.7.3"
  }
 },
 "nbformat": 4,
 "nbformat_minor": 2
}
