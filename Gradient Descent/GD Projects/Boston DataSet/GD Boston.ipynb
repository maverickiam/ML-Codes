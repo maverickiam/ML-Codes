{
 "cells": [
  {
   "cell_type": "code",
   "execution_count": 24,
   "metadata": {},
   "outputs": [],
   "source": [
    "import numpy as np\n",
    "from sklearn import preprocessing\n",
    "scaler = preprocessing.StandardScaler()"
   ]
  },
  {
   "cell_type": "code",
   "execution_count": 25,
   "metadata": {},
   "outputs": [],
   "source": [
    "# Suppose there are n rows and 13 columns(features)\n",
    "# So X is n*13 matrix \n",
    "# Y is n*1\n",
    "# m is 1*13\n",
    "# so m transpose 13*1\n",
    "# yeahh....\n",
    "def step_gradient(X_train,Y_train, learning_rate, m):\n",
    "    m_slope = np.zeros([len(X_train[0])])\n",
    "    M = len(X_train)\n",
    "    m_slope = (-2/M)*(X_train.transpose().dot((Y_train - X_train.dot(m.transpose()))))  \n",
    "    new_m = m - learning_rate * m_slope\n",
    "    return new_m"
   ]
  },
  {
   "cell_type": "code",
   "execution_count": 26,
   "metadata": {},
   "outputs": [],
   "source": [
    "def gd(X_train, Y_train, learning_rate, num_iterations):\n",
    "    m = np.zeros(len(X_train[0]))                  \n",
    "    for i in range(num_iterations):\n",
    "        m = step_gradient(X_train, Y_train, learning_rate, m)\n",
    "    return m"
   ]
  },
  {
   "cell_type": "code",
   "execution_count": 50,
   "metadata": {},
   "outputs": [],
   "source": [
    "from sklearn import preprocessing\n",
    "scaler = preprocessing.StandardScaler()\n",
    "def run():\n",
    "    train = np.loadtxt(r\"C:\\Users\\DEEPAK\\My ML Codes\\Gradient Descent\\training.csv\", delimiter= \",\")\n",
    "    X_train=np.zeros([len(train),len(train[0])])\n",
    "    \n",
    "    for i in range(len(train)-1):\n",
    "        k=0;\n",
    "        for j in range(len(train[0])-1):\n",
    "            X_train[i][j]=train[i][j]\n",
    "            k=k+1\n",
    "        X_train[i][k]=1     # this is done to add 1's to the last of data set of training data\n",
    "        \n",
    "    Y_train = train[:,13]\n",
    "    \n",
    "    scaler.fit(X_train)\n",
    "    scaler.transform(X_train)\n",
    "    \n",
    "    learning_rate = 0.001\n",
    "    num_iterations = 7000\n",
    "    m = gd(X_train, Y_train, learning_rate, num_iterations)\n",
    "    #Couldn't figure out how to make this fxn named cost\n",
    "    #print(cost(X_train, Y_train, m))\n",
    "    return m"
   ]
  },
  {
   "cell_type": "code",
   "execution_count": 51,
   "metadata": {},
   "outputs": [
    {
     "data": {
      "text/plain": [
       "array([-8.65995206e-01,  5.42522633e-01, -2.90634668e-01,  6.78917778e-01,\n",
       "       -1.86823429e+00,  2.46934679e+00,  8.51387061e-03, -2.72018502e+00,\n",
       "        1.73768825e+00, -9.79687942e-01, -2.22250585e+00,  5.60912797e-01,\n",
       "       -4.10466474e+00,  2.26385957e+01])"
      ]
     },
     "execution_count": 51,
     "metadata": {},
     "output_type": "execute_result"
    }
   ],
   "source": [
    "run()"
   ]
  },
  {
   "cell_type": "code",
   "execution_count": 52,
   "metadata": {},
   "outputs": [],
   "source": [
    "def predict(X_test, m):\n",
    "    # new way to add a new column for 1s to the X matrix for the value of constant c in mx+c\n",
    "    temp = np.ones((X_test.shape[0],X_test.shape[1]+1))\n",
    "    temp[:,:-1] = X_test\n",
    "    X_test = temp          #till here\n",
    "    \n",
    "    \n",
    "    scaler.transform(X_test)\n",
    "    Y_pred = np.zeros(len(X_test))\n",
    "    for i in range(len(X_test)):\n",
    "        Y_pred[i] = (X_test[i] * m).sum()\n",
    "    return Y_pred"
   ]
  },
  {
   "cell_type": "code",
   "execution_count": 53,
   "metadata": {},
   "outputs": [
    {
     "data": {
      "text/plain": [
       "array([11.99635168, 28.92066986, 22.35788674, 24.4394506 , 20.9524519 ,\n",
       "        3.04872254, 29.73992658, 24.71180604, 18.77787327, 23.50413324,\n",
       "       24.27361278, 17.87187017, 18.30442655, 21.86967199, 41.92326456,\n",
       "       24.18370132, 24.53928662, 27.70747978, 20.58903477, 31.29576385,\n",
       "       24.1103834 , 24.83862398, 33.72431388, 35.54471968, 32.26237979,\n",
       "       16.1392443 , 23.33485875, 33.07066793, 24.36976812, 33.00003174,\n",
       "       17.12795104, 26.23474614, 23.40106534, 25.4727481 , 14.94470914,\n",
       "       29.48477092, 26.18000684, 20.58240574, 24.27091194,  9.63031525,\n",
       "        7.85412257, 28.87225979, 29.66313814, 19.89985374, 20.17059743,\n",
       "        3.01113644, 39.41595607, 25.72308153, 30.0310734 , 16.78093628,\n",
       "       17.60339775, 40.28388808, 17.53760799, 21.1407877 , 15.82848017,\n",
       "       21.35619874, 18.58949626, 23.20775787, 13.92244339, 17.09244204,\n",
       "       15.10539235, 29.05132021, 25.3209897 , 25.55126311, 16.88490945,\n",
       "       17.09990388, 34.70892169, 16.9403746 , 26.36730432, 22.24922787,\n",
       "       29.43230559, 26.97852145, 18.25767505,  5.57779853, 36.31613959,\n",
       "       25.19853419, 29.70863214, 27.00573668, 16.05602757, 32.87049843,\n",
       "       19.2050545 , 22.82163679, 23.15891873,  8.71883876, 17.30698683,\n",
       "       29.40551949, 27.18304949,  5.74232154, 20.89734686, 19.82186656,\n",
       "       22.19952422, 20.78367612, 21.164689  , 13.30429538, 19.89790439,\n",
       "       26.42712093, 39.94699213, 18.78621503, 33.33542919, 26.88817189,\n",
       "       28.56593558, 22.24951988, 25.14162271, 31.40744752, 17.21589472,\n",
       "       26.25865341, 21.75644946, 36.98738385, 21.98952948, 16.64193606,\n",
       "       27.86472493, -0.26785319, 14.22740013, 15.81596716, 35.75454687,\n",
       "       21.14908176, 21.04601186, 25.30201388, 22.12815655, 19.2258599 ,\n",
       "       13.75085238, 35.18047444, 23.18730856, 24.79089215, 18.34655324,\n",
       "       20.90488394, 15.27527594])"
      ]
     },
     "execution_count": 53,
     "metadata": {},
     "output_type": "execute_result"
    }
   ],
   "source": [
    "test=np.loadtxt(r\"C:\\Users\\DEEPAK\\My ML Codes\\Gradient Descent\\GD Projects\\Boston DataSet\\test.csv\",delimiter=\",\")\n",
    "m=run()\n",
    "Y_pred = predict(test, m)\n",
    "Y_pred"
   ]
  },
  {
   "cell_type": "code",
   "execution_count": 43,
   "metadata": {},
   "outputs": [],
   "source": [
    "np.savetxt(\"prediction.csv\",Y_pred,delimiter=\",\")"
   ]
  },
  {
   "cell_type": "code",
   "execution_count": null,
   "metadata": {},
   "outputs": [],
   "source": []
  }
 ],
 "metadata": {
  "kernelspec": {
   "display_name": "Python 3",
   "language": "python",
   "name": "python3"
  },
  "language_info": {
   "codemirror_mode": {
    "name": "ipython",
    "version": 3
   },
   "file_extension": ".py",
   "mimetype": "text/x-python",
   "name": "python",
   "nbconvert_exporter": "python",
   "pygments_lexer": "ipython3",
   "version": "3.7.3"
  }
 },
 "nbformat": 4,
 "nbformat_minor": 2
}
